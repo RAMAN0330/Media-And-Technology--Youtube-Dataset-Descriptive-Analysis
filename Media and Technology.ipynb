{
 "cells": [
  {
   "cell_type": "code",
   "execution_count": 1,
   "id": "3f1cb9ff-13c5-427f-81b4-1bb7742a9a26",
   "metadata": {},
   "outputs": [],
   "source": [
    "import pandas as pd\n",
    "import matplotlib.pyplot as plt\n",
    "import seaborn as sns"
   ]
  },
  {
   "cell_type": "code",
   "execution_count": 2,
   "id": "39b01831-71de-481d-911a-05a688ea4bba",
   "metadata": {},
   "outputs": [
    {
     "data": {
      "text/html": [
       "<div>\n",
       "<style scoped>\n",
       "    .dataframe tbody tr th:only-of-type {\n",
       "        vertical-align: middle;\n",
       "    }\n",
       "\n",
       "    .dataframe tbody tr th {\n",
       "        vertical-align: top;\n",
       "    }\n",
       "\n",
       "    .dataframe thead th {\n",
       "        text-align: right;\n",
       "    }\n",
       "</style>\n",
       "<table border=\"1\" class=\"dataframe\">\n",
       "  <thead>\n",
       "    <tr style=\"text-align: right;\">\n",
       "      <th></th>\n",
       "      <th>rank</th>\n",
       "      <th>Youtuber</th>\n",
       "      <th>subscribers</th>\n",
       "      <th>video views</th>\n",
       "      <th>category</th>\n",
       "      <th>Title</th>\n",
       "      <th>uploads</th>\n",
       "      <th>Country of origin</th>\n",
       "      <th>Country</th>\n",
       "      <th>Abbreviation</th>\n",
       "      <th>...</th>\n",
       "      <th>subscribers_for_last_30_days</th>\n",
       "      <th>created_year</th>\n",
       "      <th>created_month</th>\n",
       "      <th>created_date</th>\n",
       "      <th>Gross tertiary education enrollment (%)</th>\n",
       "      <th>Population</th>\n",
       "      <th>Unemployment rate</th>\n",
       "      <th>Urban_population</th>\n",
       "      <th>Latitude</th>\n",
       "      <th>Longitude</th>\n",
       "    </tr>\n",
       "  </thead>\n",
       "  <tbody>\n",
       "    <tr>\n",
       "      <th>0</th>\n",
       "      <td>1</td>\n",
       "      <td>T-Series</td>\n",
       "      <td>245000000.0</td>\n",
       "      <td>2.280000e+11</td>\n",
       "      <td>Music</td>\n",
       "      <td>T-Series</td>\n",
       "      <td>20082</td>\n",
       "      <td>India</td>\n",
       "      <td>india</td>\n",
       "      <td>IN</td>\n",
       "      <td>...</td>\n",
       "      <td>2000000.0</td>\n",
       "      <td>2006.0</td>\n",
       "      <td>Mar</td>\n",
       "      <td>13.0</td>\n",
       "      <td>28.1</td>\n",
       "      <td>1.366418e+09</td>\n",
       "      <td>5.36</td>\n",
       "      <td>471031528.0</td>\n",
       "      <td>20.593684</td>\n",
       "      <td>78.962880</td>\n",
       "    </tr>\n",
       "    <tr>\n",
       "      <th>1</th>\n",
       "      <td>2</td>\n",
       "      <td>YouTube Movies</td>\n",
       "      <td>170000000.0</td>\n",
       "      <td>0.000000e+00</td>\n",
       "      <td>Film &amp; Animation</td>\n",
       "      <td>youtubemovies</td>\n",
       "      <td>1</td>\n",
       "      <td>United States</td>\n",
       "      <td>United States</td>\n",
       "      <td>US</td>\n",
       "      <td>...</td>\n",
       "      <td>NaN</td>\n",
       "      <td>2006.0</td>\n",
       "      <td>NaN</td>\n",
       "      <td>5.0</td>\n",
       "      <td>88.2</td>\n",
       "      <td>3.282395e+08</td>\n",
       "      <td>14.70</td>\n",
       "      <td>270663028.0</td>\n",
       "      <td>37.090240</td>\n",
       "      <td>-95.712891</td>\n",
       "    </tr>\n",
       "    <tr>\n",
       "      <th>2</th>\n",
       "      <td>3</td>\n",
       "      <td>MrBeast</td>\n",
       "      <td>166000000.0</td>\n",
       "      <td>2.836884e+10</td>\n",
       "      <td>Entertainment</td>\n",
       "      <td>MrBeast</td>\n",
       "      <td>741</td>\n",
       "      <td>United States</td>\n",
       "      <td>United States</td>\n",
       "      <td>US</td>\n",
       "      <td>...</td>\n",
       "      <td>8000000.0</td>\n",
       "      <td>2012.0</td>\n",
       "      <td>Feb</td>\n",
       "      <td>20.0</td>\n",
       "      <td>88.2</td>\n",
       "      <td>3.282395e+08</td>\n",
       "      <td>14.70</td>\n",
       "      <td>270663028.0</td>\n",
       "      <td>37.090240</td>\n",
       "      <td>-95.712891</td>\n",
       "    </tr>\n",
       "    <tr>\n",
       "      <th>3</th>\n",
       "      <td>4</td>\n",
       "      <td>Cocomelon - Nursery Rhymes</td>\n",
       "      <td>162000000.0</td>\n",
       "      <td>1.640000e+11</td>\n",
       "      <td>Education</td>\n",
       "      <td>Cocomelon - Nursery Rhymes</td>\n",
       "      <td>966</td>\n",
       "      <td>United States</td>\n",
       "      <td>United States</td>\n",
       "      <td>US</td>\n",
       "      <td>...</td>\n",
       "      <td>1000000.0</td>\n",
       "      <td>2006.0</td>\n",
       "      <td>Sep</td>\n",
       "      <td>1.0</td>\n",
       "      <td>88.2</td>\n",
       "      <td>3.282395e+08</td>\n",
       "      <td>14.70</td>\n",
       "      <td>270663028.0</td>\n",
       "      <td>37.090240</td>\n",
       "      <td>-95.712891</td>\n",
       "    </tr>\n",
       "    <tr>\n",
       "      <th>4</th>\n",
       "      <td>5</td>\n",
       "      <td>SET India</td>\n",
       "      <td>159000000.0</td>\n",
       "      <td>1.480000e+11</td>\n",
       "      <td>Shows</td>\n",
       "      <td>SET India</td>\n",
       "      <td>116536</td>\n",
       "      <td>India</td>\n",
       "      <td>India</td>\n",
       "      <td>IN</td>\n",
       "      <td>...</td>\n",
       "      <td>1000000.0</td>\n",
       "      <td>2006.0</td>\n",
       "      <td>Sep</td>\n",
       "      <td>20.0</td>\n",
       "      <td>28.1</td>\n",
       "      <td>1.366418e+09</td>\n",
       "      <td>5.36</td>\n",
       "      <td>471031528.0</td>\n",
       "      <td>20.593684</td>\n",
       "      <td>78.962880</td>\n",
       "    </tr>\n",
       "    <tr>\n",
       "      <th>...</th>\n",
       "      <td>...</td>\n",
       "      <td>...</td>\n",
       "      <td>...</td>\n",
       "      <td>...</td>\n",
       "      <td>...</td>\n",
       "      <td>...</td>\n",
       "      <td>...</td>\n",
       "      <td>...</td>\n",
       "      <td>...</td>\n",
       "      <td>...</td>\n",
       "      <td>...</td>\n",
       "      <td>...</td>\n",
       "      <td>...</td>\n",
       "      <td>...</td>\n",
       "      <td>...</td>\n",
       "      <td>...</td>\n",
       "      <td>...</td>\n",
       "      <td>...</td>\n",
       "      <td>...</td>\n",
       "      <td>...</td>\n",
       "      <td>...</td>\n",
       "    </tr>\n",
       "    <tr>\n",
       "      <th>1001</th>\n",
       "      <td>779</td>\n",
       "      <td>The Dodo</td>\n",
       "      <td>14200000.0</td>\n",
       "      <td>9.964117e+09</td>\n",
       "      <td>Pets &amp; Animals</td>\n",
       "      <td>Dorukhan Gï¿½ï¿½ï</td>\n",
       "      <td>8</td>\n",
       "      <td>NaN</td>\n",
       "      <td>NaN</td>\n",
       "      <td>NaN</td>\n",
       "      <td>...</td>\n",
       "      <td>5.0</td>\n",
       "      <td>2006.0</td>\n",
       "      <td>Jun</td>\n",
       "      <td>14.0</td>\n",
       "      <td>NaN</td>\n",
       "      <td>NaN</td>\n",
       "      <td>NaN</td>\n",
       "      <td>NaN</td>\n",
       "      <td>NaN</td>\n",
       "      <td>NaN</td>\n",
       "    </tr>\n",
       "    <tr>\n",
       "      <th>1002</th>\n",
       "      <td>787</td>\n",
       "      <td>Supercar Blondie</td>\n",
       "      <td>14100000.0</td>\n",
       "      <td>5.405563e+09</td>\n",
       "      <td>Autos &amp; Vehicles</td>\n",
       "      <td>Supercar Blondie</td>\n",
       "      <td>855</td>\n",
       "      <td>United Arab Emirates</td>\n",
       "      <td>United Arab Emirates</td>\n",
       "      <td>AE</td>\n",
       "      <td>...</td>\n",
       "      <td>500000.0</td>\n",
       "      <td>2007.0</td>\n",
       "      <td>Sep</td>\n",
       "      <td>12.0</td>\n",
       "      <td>36.8</td>\n",
       "      <td>9.770529e+06</td>\n",
       "      <td>2.35</td>\n",
       "      <td>8479744.0</td>\n",
       "      <td>23.424076</td>\n",
       "      <td>53.847818</td>\n",
       "    </tr>\n",
       "    <tr>\n",
       "      <th>1003</th>\n",
       "      <td>871</td>\n",
       "      <td>Just For Laughs Gags</td>\n",
       "      <td>13300000.0</td>\n",
       "      <td>7.406629e+09</td>\n",
       "      <td>Comedy</td>\n",
       "      <td>Just For Laughs Gags</td>\n",
       "      <td>6916</td>\n",
       "      <td>United States</td>\n",
       "      <td>United States</td>\n",
       "      <td>US</td>\n",
       "      <td>...</td>\n",
       "      <td>100000.0</td>\n",
       "      <td>2007.0</td>\n",
       "      <td>Jan</td>\n",
       "      <td>14.0</td>\n",
       "      <td>88.2</td>\n",
       "      <td>3.282395e+08</td>\n",
       "      <td>14.70</td>\n",
       "      <td>270663028.0</td>\n",
       "      <td>37.090240</td>\n",
       "      <td>-95.712891</td>\n",
       "    </tr>\n",
       "    <tr>\n",
       "      <th>1004</th>\n",
       "      <td>872</td>\n",
       "      <td>Kabita's Kitchen</td>\n",
       "      <td>13300000.0</td>\n",
       "      <td>2.831276e+09</td>\n",
       "      <td>Howto &amp; Style</td>\n",
       "      <td>Kabita's Kitchen</td>\n",
       "      <td>1489</td>\n",
       "      <td>India</td>\n",
       "      <td>India</td>\n",
       "      <td>IN</td>\n",
       "      <td>...</td>\n",
       "      <td>NaN</td>\n",
       "      <td>2014.0</td>\n",
       "      <td>Oct</td>\n",
       "      <td>7.0</td>\n",
       "      <td>28.1</td>\n",
       "      <td>1.366418e+09</td>\n",
       "      <td>5.36</td>\n",
       "      <td>471031528.0</td>\n",
       "      <td>20.593684</td>\n",
       "      <td>78.962880</td>\n",
       "    </tr>\n",
       "    <tr>\n",
       "      <th>1005</th>\n",
       "      <td>873</td>\n",
       "      <td>BanderitaX</td>\n",
       "      <td>13300000.0</td>\n",
       "      <td>4.129249e+09</td>\n",
       "      <td>Gaming</td>\n",
       "      <td>BanderitaX</td>\n",
       "      <td>1640</td>\n",
       "      <td>Saudi Arabia</td>\n",
       "      <td>Saudi Arabia</td>\n",
       "      <td>SA</td>\n",
       "      <td>...</td>\n",
       "      <td>200000.0</td>\n",
       "      <td>2013.0</td>\n",
       "      <td>Aug</td>\n",
       "      <td>20.0</td>\n",
       "      <td>68.0</td>\n",
       "      <td>3.426853e+07</td>\n",
       "      <td>5.93</td>\n",
       "      <td>28807838.0</td>\n",
       "      <td>23.885942</td>\n",
       "      <td>45.079162</td>\n",
       "    </tr>\n",
       "  </tbody>\n",
       "</table>\n",
       "<p>1006 rows × 29 columns</p>\n",
       "</div>"
      ],
      "text/plain": [
       "      rank                    Youtuber  subscribers   video views  \\\n",
       "0        1                    T-Series  245000000.0  2.280000e+11   \n",
       "1        2              YouTube Movies  170000000.0  0.000000e+00   \n",
       "2        3                     MrBeast  166000000.0  2.836884e+10   \n",
       "3        4  Cocomelon - Nursery Rhymes  162000000.0  1.640000e+11   \n",
       "4        5                   SET India  159000000.0  1.480000e+11   \n",
       "...    ...                         ...          ...           ...   \n",
       "1001   779                    The Dodo   14200000.0  9.964117e+09   \n",
       "1002   787            Supercar Blondie   14100000.0  5.405563e+09   \n",
       "1003   871        Just For Laughs Gags   13300000.0  7.406629e+09   \n",
       "1004   872            Kabita's Kitchen   13300000.0  2.831276e+09   \n",
       "1005   873                  BanderitaX   13300000.0  4.129249e+09   \n",
       "\n",
       "              category                       Title  uploads  \\\n",
       "0                Music                    T-Series    20082   \n",
       "1     Film & Animation               youtubemovies        1   \n",
       "2        Entertainment                     MrBeast      741   \n",
       "3            Education  Cocomelon - Nursery Rhymes      966   \n",
       "4                Shows                   SET India   116536   \n",
       "...                ...                         ...      ...   \n",
       "1001    Pets & Animals           Dorukhan Gï¿½ï¿½ï        8   \n",
       "1002  Autos & Vehicles            Supercar Blondie      855   \n",
       "1003            Comedy        Just For Laughs Gags     6916   \n",
       "1004     Howto & Style            Kabita's Kitchen     1489   \n",
       "1005            Gaming                  BanderitaX     1640   \n",
       "\n",
       "         Country of origin               Country Abbreviation  ...  \\\n",
       "0                    India                 india           IN  ...   \n",
       "1            United States         United States           US  ...   \n",
       "2            United States         United States           US  ...   \n",
       "3            United States         United States           US  ...   \n",
       "4                    India                 India           IN  ...   \n",
       "...                    ...                   ...          ...  ...   \n",
       "1001                   NaN                   NaN          NaN  ...   \n",
       "1002  United Arab Emirates  United Arab Emirates           AE  ...   \n",
       "1003         United States         United States           US  ...   \n",
       "1004                 India                 India           IN  ...   \n",
       "1005          Saudi Arabia          Saudi Arabia           SA  ...   \n",
       "\n",
       "     subscribers_for_last_30_days  created_year  created_month  created_date  \\\n",
       "0                       2000000.0        2006.0            Mar          13.0   \n",
       "1                             NaN        2006.0            NaN           5.0   \n",
       "2                       8000000.0        2012.0            Feb          20.0   \n",
       "3                       1000000.0        2006.0            Sep           1.0   \n",
       "4                       1000000.0        2006.0            Sep          20.0   \n",
       "...                           ...           ...            ...           ...   \n",
       "1001                          5.0        2006.0            Jun          14.0   \n",
       "1002                     500000.0        2007.0            Sep          12.0   \n",
       "1003                     100000.0        2007.0            Jan          14.0   \n",
       "1004                          NaN        2014.0            Oct           7.0   \n",
       "1005                     200000.0        2013.0            Aug          20.0   \n",
       "\n",
       "      Gross tertiary education enrollment (%)    Population  \\\n",
       "0                                        28.1  1.366418e+09   \n",
       "1                                        88.2  3.282395e+08   \n",
       "2                                        88.2  3.282395e+08   \n",
       "3                                        88.2  3.282395e+08   \n",
       "4                                        28.1  1.366418e+09   \n",
       "...                                       ...           ...   \n",
       "1001                                      NaN           NaN   \n",
       "1002                                     36.8  9.770529e+06   \n",
       "1003                                     88.2  3.282395e+08   \n",
       "1004                                     28.1  1.366418e+09   \n",
       "1005                                     68.0  3.426853e+07   \n",
       "\n",
       "      Unemployment rate  Urban_population   Latitude  Longitude  \n",
       "0                  5.36       471031528.0  20.593684  78.962880  \n",
       "1                 14.70       270663028.0  37.090240 -95.712891  \n",
       "2                 14.70       270663028.0  37.090240 -95.712891  \n",
       "3                 14.70       270663028.0  37.090240 -95.712891  \n",
       "4                  5.36       471031528.0  20.593684  78.962880  \n",
       "...                 ...               ...        ...        ...  \n",
       "1001                NaN               NaN        NaN        NaN  \n",
       "1002               2.35         8479744.0  23.424076  53.847818  \n",
       "1003              14.70       270663028.0  37.090240 -95.712891  \n",
       "1004               5.36       471031528.0  20.593684  78.962880  \n",
       "1005               5.93        28807838.0  23.885942  45.079162  \n",
       "\n",
       "[1006 rows x 29 columns]"
      ]
     },
     "execution_count": 2,
     "metadata": {},
     "output_type": "execute_result"
    }
   ],
   "source": [
    "data = pd.read_csv('youtube_data.csv' , encoding='latin1')\n",
    "data"
   ]
  },
  {
   "cell_type": "code",
   "execution_count": 3,
   "id": "964018f8-c883-4103-b1f1-cdb023eaaf1d",
   "metadata": {},
   "outputs": [
    {
     "data": {
      "text/plain": [
       "Index(['rank', 'Youtuber', 'subscribers', 'video views', 'category', 'Title',\n",
       "       'uploads', 'Country of origin', 'Country', 'Abbreviation',\n",
       "       'channel_type', 'video_views_rank', 'country_rank', 'channel_type_rank',\n",
       "       'video_views_for_the_last_30_days', 'lowest_monthly_earnings',\n",
       "       'highest_monthly_earnings', 'lowest_yearly_earnings',\n",
       "       'highest_yearly_earnings', 'subscribers_for_last_30_days',\n",
       "       'created_year', 'created_month', 'created_date',\n",
       "       'Gross tertiary education enrollment (%)', 'Population',\n",
       "       'Unemployment rate', 'Urban_population', 'Latitude', 'Longitude'],\n",
       "      dtype='object')"
      ]
     },
     "execution_count": 3,
     "metadata": {},
     "output_type": "execute_result"
    }
   ],
   "source": [
    "data.columns"
   ]
  },
  {
   "cell_type": "code",
   "execution_count": 4,
   "id": "333cef3a-897b-4056-8773-19a5a76f3dac",
   "metadata": {},
   "outputs": [
    {
     "name": "stdout",
     "output_type": "stream",
     "text": [
      "<class 'pandas.core.frame.DataFrame'>\n",
      "RangeIndex: 1006 entries, 0 to 1005\n",
      "Data columns (total 29 columns):\n",
      " #   Column                                   Non-Null Count  Dtype  \n",
      "---  ------                                   --------------  -----  \n",
      " 0   rank                                     1006 non-null   int64  \n",
      " 1   Youtuber                                 1006 non-null   object \n",
      " 2   subscribers                              1003 non-null   float64\n",
      " 3   video views                              1006 non-null   float64\n",
      " 4   category                                 951 non-null    object \n",
      " 5   Title                                    1006 non-null   object \n",
      " 6   uploads                                  1006 non-null   int64  \n",
      " 7   Country of origin                        881 non-null    object \n",
      " 8   Country                                  881 non-null    object \n",
      " 9   Abbreviation                             881 non-null    object \n",
      " 10  channel_type                             974 non-null    object \n",
      " 11  video_views_rank                         1005 non-null   float64\n",
      " 12  country_rank                             887 non-null    float64\n",
      " 13  channel_type_rank                        971 non-null    float64\n",
      " 14  video_views_for_the_last_30_days         949 non-null    float64\n",
      " 15  lowest_monthly_earnings                  1006 non-null   float64\n",
      " 16  highest_monthly_earnings                 1006 non-null   float64\n",
      " 17  lowest_yearly_earnings                   1006 non-null   float64\n",
      " 18  highest_yearly_earnings                  1006 non-null   float64\n",
      " 19  subscribers_for_last_30_days             666 non-null    float64\n",
      " 20  created_year                             1001 non-null   float64\n",
      " 21  created_month                            994 non-null    object \n",
      " 22  created_date                             1001 non-null   float64\n",
      " 23  Gross tertiary education enrollment (%)  880 non-null    float64\n",
      " 24  Population                               880 non-null    float64\n",
      " 25  Unemployment rate                        880 non-null    float64\n",
      " 26  Urban_population                         880 non-null    float64\n",
      " 27  Latitude                                 880 non-null    float64\n",
      " 28  Longitude                                880 non-null    float64\n",
      "dtypes: float64(19), int64(2), object(8)\n",
      "memory usage: 228.0+ KB\n"
     ]
    }
   ],
   "source": [
    "data.info()"
   ]
  },
  {
   "cell_type": "code",
   "execution_count": 5,
   "id": "15d6b0b2-2b4c-473b-9584-3ecc58f1884d",
   "metadata": {},
   "outputs": [
    {
     "data": {
      "text/html": [
       "<div>\n",
       "<style scoped>\n",
       "    .dataframe tbody tr th:only-of-type {\n",
       "        vertical-align: middle;\n",
       "    }\n",
       "\n",
       "    .dataframe tbody tr th {\n",
       "        vertical-align: top;\n",
       "    }\n",
       "\n",
       "    .dataframe thead th {\n",
       "        text-align: right;\n",
       "    }\n",
       "</style>\n",
       "<table border=\"1\" class=\"dataframe\">\n",
       "  <thead>\n",
       "    <tr style=\"text-align: right;\">\n",
       "      <th></th>\n",
       "      <th>rank</th>\n",
       "      <th>subscribers</th>\n",
       "      <th>video views</th>\n",
       "      <th>uploads</th>\n",
       "      <th>video_views_rank</th>\n",
       "      <th>country_rank</th>\n",
       "      <th>channel_type_rank</th>\n",
       "      <th>video_views_for_the_last_30_days</th>\n",
       "      <th>lowest_monthly_earnings</th>\n",
       "      <th>highest_monthly_earnings</th>\n",
       "      <th>...</th>\n",
       "      <th>highest_yearly_earnings</th>\n",
       "      <th>subscribers_for_last_30_days</th>\n",
       "      <th>created_year</th>\n",
       "      <th>created_date</th>\n",
       "      <th>Gross tertiary education enrollment (%)</th>\n",
       "      <th>Population</th>\n",
       "      <th>Unemployment rate</th>\n",
       "      <th>Urban_population</th>\n",
       "      <th>Latitude</th>\n",
       "      <th>Longitude</th>\n",
       "    </tr>\n",
       "  </thead>\n",
       "  <tbody>\n",
       "    <tr>\n",
       "      <th>count</th>\n",
       "      <td>1006.000000</td>\n",
       "      <td>1.003000e+03</td>\n",
       "      <td>1.006000e+03</td>\n",
       "      <td>1006.000000</td>\n",
       "      <td>1.005000e+03</td>\n",
       "      <td>887.000000</td>\n",
       "      <td>971.000000</td>\n",
       "      <td>9.490000e+02</td>\n",
       "      <td>1006.000000</td>\n",
       "      <td>1.006000e+03</td>\n",
       "      <td>...</td>\n",
       "      <td>1.006000e+03</td>\n",
       "      <td>6.660000e+02</td>\n",
       "      <td>1001.000000</td>\n",
       "      <td>1001.000000</td>\n",
       "      <td>880.000000</td>\n",
       "      <td>8.800000e+02</td>\n",
       "      <td>880.000000</td>\n",
       "      <td>8.800000e+02</td>\n",
       "      <td>880.000000</td>\n",
       "      <td>880.000000</td>\n",
       "    </tr>\n",
       "    <tr>\n",
       "      <th>mean</th>\n",
       "      <td>497.472167</td>\n",
       "      <td>2.319501e+07</td>\n",
       "      <td>1.112411e+10</td>\n",
       "      <td>9168.335984</td>\n",
       "      <td>5.607670e+05</td>\n",
       "      <td>384.289741</td>\n",
       "      <td>742.311020</td>\n",
       "      <td>1.760978e+08</td>\n",
       "      <td>37034.348489</td>\n",
       "      <td>5.922453e+05</td>\n",
       "      <td>...</td>\n",
       "      <td>7.110327e+06</td>\n",
       "      <td>3.495419e+05</td>\n",
       "      <td>2012.613387</td>\n",
       "      <td>15.712288</td>\n",
       "      <td>63.597273</td>\n",
       "      <td>4.304586e+08</td>\n",
       "      <td>9.258966</td>\n",
       "      <td>2.239747e+08</td>\n",
       "      <td>26.639994</td>\n",
       "      <td>-13.811287</td>\n",
       "    </tr>\n",
       "    <tr>\n",
       "      <th>std</th>\n",
       "      <td>288.738758</td>\n",
       "      <td>1.783047e+07</td>\n",
       "      <td>1.424148e+10</td>\n",
       "      <td>34028.189437</td>\n",
       "      <td>1.368886e+06</td>\n",
       "      <td>1227.359768</td>\n",
       "      <td>1938.126477</td>\n",
       "      <td>4.152933e+08</td>\n",
       "      <td>71869.653679</td>\n",
       "      <td>1.148967e+06</td>\n",
       "      <td>...</td>\n",
       "      <td>1.379921e+07</td>\n",
       "      <td>6.131554e+05</td>\n",
       "      <td>4.514131</td>\n",
       "      <td>8.765109</td>\n",
       "      <td>26.095537</td>\n",
       "      <td>4.735536e+08</td>\n",
       "      <td>4.889912</td>\n",
       "      <td>1.550381e+08</td>\n",
       "      <td>20.516025</td>\n",
       "      <td>84.728810</td>\n",
       "    </tr>\n",
       "    <tr>\n",
       "      <th>min</th>\n",
       "      <td>1.000000</td>\n",
       "      <td>1.230000e+07</td>\n",
       "      <td>0.000000e+00</td>\n",
       "      <td>0.000000</td>\n",
       "      <td>1.000000e+00</td>\n",
       "      <td>1.000000</td>\n",
       "      <td>1.000000</td>\n",
       "      <td>1.000000e+00</td>\n",
       "      <td>0.000000</td>\n",
       "      <td>0.000000e+00</td>\n",
       "      <td>...</td>\n",
       "      <td>0.000000e+00</td>\n",
       "      <td>1.000000e+00</td>\n",
       "      <td>1970.000000</td>\n",
       "      <td>1.000000</td>\n",
       "      <td>7.600000</td>\n",
       "      <td>2.025060e+05</td>\n",
       "      <td>0.750000</td>\n",
       "      <td>3.558800e+04</td>\n",
       "      <td>-38.416097</td>\n",
       "      <td>-172.104629</td>\n",
       "    </tr>\n",
       "    <tr>\n",
       "      <th>25%</th>\n",
       "      <td>247.250000</td>\n",
       "      <td>1.450000e+07</td>\n",
       "      <td>4.281427e+09</td>\n",
       "      <td>194.000000</td>\n",
       "      <td>3.220000e+02</td>\n",
       "      <td>11.000000</td>\n",
       "      <td>26.000000</td>\n",
       "      <td>1.974000e+07</td>\n",
       "      <td>2700.000000</td>\n",
       "      <td>4.340000e+04</td>\n",
       "      <td>...</td>\n",
       "      <td>5.207500e+05</td>\n",
       "      <td>1.000000e+05</td>\n",
       "      <td>2009.000000</td>\n",
       "      <td>8.000000</td>\n",
       "      <td>36.300000</td>\n",
       "      <td>8.313280e+07</td>\n",
       "      <td>5.270000</td>\n",
       "      <td>5.590832e+07</td>\n",
       "      <td>20.593684</td>\n",
       "      <td>-95.712891</td>\n",
       "    </tr>\n",
       "    <tr>\n",
       "      <th>50%</th>\n",
       "      <td>498.500000</td>\n",
       "      <td>1.770000e+07</td>\n",
       "      <td>7.751292e+09</td>\n",
       "      <td>726.500000</td>\n",
       "      <td>9.190000e+02</td>\n",
       "      <td>50.000000</td>\n",
       "      <td>65.000000</td>\n",
       "      <td>6.408500e+07</td>\n",
       "      <td>13250.000000</td>\n",
       "      <td>2.117000e+05</td>\n",
       "      <td>...</td>\n",
       "      <td>2.550000e+06</td>\n",
       "      <td>2.000000e+05</td>\n",
       "      <td>2013.000000</td>\n",
       "      <td>16.000000</td>\n",
       "      <td>68.000000</td>\n",
       "      <td>3.282395e+08</td>\n",
       "      <td>8.880000</td>\n",
       "      <td>2.706630e+08</td>\n",
       "      <td>37.090240</td>\n",
       "      <td>-51.925280</td>\n",
       "    </tr>\n",
       "    <tr>\n",
       "      <th>75%</th>\n",
       "      <td>748.750000</td>\n",
       "      <td>2.475000e+07</td>\n",
       "      <td>1.357357e+10</td>\n",
       "      <td>2606.500000</td>\n",
       "      <td>3.645000e+03</td>\n",
       "      <td>123.000000</td>\n",
       "      <td>139.000000</td>\n",
       "      <td>1.692420e+08</td>\n",
       "      <td>38125.000000</td>\n",
       "      <td>6.101750e+05</td>\n",
       "      <td>...</td>\n",
       "      <td>7.300000e+06</td>\n",
       "      <td>4.000000e+05</td>\n",
       "      <td>2016.000000</td>\n",
       "      <td>23.000000</td>\n",
       "      <td>88.200000</td>\n",
       "      <td>3.282395e+08</td>\n",
       "      <td>14.700000</td>\n",
       "      <td>2.706630e+08</td>\n",
       "      <td>37.090240</td>\n",
       "      <td>78.962880</td>\n",
       "    </tr>\n",
       "    <tr>\n",
       "      <th>max</th>\n",
       "      <td>995.000000</td>\n",
       "      <td>2.450000e+08</td>\n",
       "      <td>2.280000e+11</td>\n",
       "      <td>301308.000000</td>\n",
       "      <td>4.057944e+06</td>\n",
       "      <td>7741.000000</td>\n",
       "      <td>7741.000000</td>\n",
       "      <td>6.589000e+09</td>\n",
       "      <td>850900.000000</td>\n",
       "      <td>1.360000e+07</td>\n",
       "      <td>...</td>\n",
       "      <td>1.634000e+08</td>\n",
       "      <td>8.000000e+06</td>\n",
       "      <td>2022.000000</td>\n",
       "      <td>31.000000</td>\n",
       "      <td>113.100000</td>\n",
       "      <td>1.397715e+09</td>\n",
       "      <td>14.720000</td>\n",
       "      <td>8.429340e+08</td>\n",
       "      <td>61.924110</td>\n",
       "      <td>138.252924</td>\n",
       "    </tr>\n",
       "  </tbody>\n",
       "</table>\n",
       "<p>8 rows × 21 columns</p>\n",
       "</div>"
      ],
      "text/plain": [
       "              rank   subscribers   video views        uploads  \\\n",
       "count  1006.000000  1.003000e+03  1.006000e+03    1006.000000   \n",
       "mean    497.472167  2.319501e+07  1.112411e+10    9168.335984   \n",
       "std     288.738758  1.783047e+07  1.424148e+10   34028.189437   \n",
       "min       1.000000  1.230000e+07  0.000000e+00       0.000000   \n",
       "25%     247.250000  1.450000e+07  4.281427e+09     194.000000   \n",
       "50%     498.500000  1.770000e+07  7.751292e+09     726.500000   \n",
       "75%     748.750000  2.475000e+07  1.357357e+10    2606.500000   \n",
       "max     995.000000  2.450000e+08  2.280000e+11  301308.000000   \n",
       "\n",
       "       video_views_rank  country_rank  channel_type_rank  \\\n",
       "count      1.005000e+03    887.000000         971.000000   \n",
       "mean       5.607670e+05    384.289741         742.311020   \n",
       "std        1.368886e+06   1227.359768        1938.126477   \n",
       "min        1.000000e+00      1.000000           1.000000   \n",
       "25%        3.220000e+02     11.000000          26.000000   \n",
       "50%        9.190000e+02     50.000000          65.000000   \n",
       "75%        3.645000e+03    123.000000         139.000000   \n",
       "max        4.057944e+06   7741.000000        7741.000000   \n",
       "\n",
       "       video_views_for_the_last_30_days  lowest_monthly_earnings  \\\n",
       "count                      9.490000e+02              1006.000000   \n",
       "mean                       1.760978e+08             37034.348489   \n",
       "std                        4.152933e+08             71869.653679   \n",
       "min                        1.000000e+00                 0.000000   \n",
       "25%                        1.974000e+07              2700.000000   \n",
       "50%                        6.408500e+07             13250.000000   \n",
       "75%                        1.692420e+08             38125.000000   \n",
       "max                        6.589000e+09            850900.000000   \n",
       "\n",
       "       highest_monthly_earnings  ...  highest_yearly_earnings  \\\n",
       "count              1.006000e+03  ...             1.006000e+03   \n",
       "mean               5.922453e+05  ...             7.110327e+06   \n",
       "std                1.148967e+06  ...             1.379921e+07   \n",
       "min                0.000000e+00  ...             0.000000e+00   \n",
       "25%                4.340000e+04  ...             5.207500e+05   \n",
       "50%                2.117000e+05  ...             2.550000e+06   \n",
       "75%                6.101750e+05  ...             7.300000e+06   \n",
       "max                1.360000e+07  ...             1.634000e+08   \n",
       "\n",
       "       subscribers_for_last_30_days  created_year  created_date  \\\n",
       "count                  6.660000e+02   1001.000000   1001.000000   \n",
       "mean                   3.495419e+05   2012.613387     15.712288   \n",
       "std                    6.131554e+05      4.514131      8.765109   \n",
       "min                    1.000000e+00   1970.000000      1.000000   \n",
       "25%                    1.000000e+05   2009.000000      8.000000   \n",
       "50%                    2.000000e+05   2013.000000     16.000000   \n",
       "75%                    4.000000e+05   2016.000000     23.000000   \n",
       "max                    8.000000e+06   2022.000000     31.000000   \n",
       "\n",
       "       Gross tertiary education enrollment (%)    Population  \\\n",
       "count                               880.000000  8.800000e+02   \n",
       "mean                                 63.597273  4.304586e+08   \n",
       "std                                  26.095537  4.735536e+08   \n",
       "min                                   7.600000  2.025060e+05   \n",
       "25%                                  36.300000  8.313280e+07   \n",
       "50%                                  68.000000  3.282395e+08   \n",
       "75%                                  88.200000  3.282395e+08   \n",
       "max                                 113.100000  1.397715e+09   \n",
       "\n",
       "       Unemployment rate  Urban_population    Latitude   Longitude  \n",
       "count         880.000000      8.800000e+02  880.000000  880.000000  \n",
       "mean            9.258966      2.239747e+08   26.639994  -13.811287  \n",
       "std             4.889912      1.550381e+08   20.516025   84.728810  \n",
       "min             0.750000      3.558800e+04  -38.416097 -172.104629  \n",
       "25%             5.270000      5.590832e+07   20.593684  -95.712891  \n",
       "50%             8.880000      2.706630e+08   37.090240  -51.925280  \n",
       "75%            14.700000      2.706630e+08   37.090240   78.962880  \n",
       "max            14.720000      8.429340e+08   61.924110  138.252924  \n",
       "\n",
       "[8 rows x 21 columns]"
      ]
     },
     "execution_count": 5,
     "metadata": {},
     "output_type": "execute_result"
    }
   ],
   "source": [
    "data.describe()"
   ]
  },
  {
   "cell_type": "code",
   "execution_count": 6,
   "id": "7d98ecb5-744a-42f8-a629-074d0e34b455",
   "metadata": {},
   "outputs": [
    {
     "data": {
      "text/plain": [
       "rank                                       False\n",
       "Youtuber                                   False\n",
       "subscribers                                 True\n",
       "video views                                False\n",
       "category                                    True\n",
       "Title                                      False\n",
       "uploads                                    False\n",
       "Country of origin                           True\n",
       "Country                                     True\n",
       "Abbreviation                                True\n",
       "channel_type                                True\n",
       "video_views_rank                            True\n",
       "country_rank                                True\n",
       "channel_type_rank                           True\n",
       "video_views_for_the_last_30_days            True\n",
       "lowest_monthly_earnings                    False\n",
       "highest_monthly_earnings                   False\n",
       "lowest_yearly_earnings                     False\n",
       "highest_yearly_earnings                    False\n",
       "subscribers_for_last_30_days                True\n",
       "created_year                                True\n",
       "created_month                               True\n",
       "created_date                                True\n",
       "Gross tertiary education enrollment (%)     True\n",
       "Population                                  True\n",
       "Unemployment rate                           True\n",
       "Urban_population                            True\n",
       "Latitude                                    True\n",
       "Longitude                                   True\n",
       "dtype: bool"
      ]
     },
     "execution_count": 6,
     "metadata": {},
     "output_type": "execute_result"
    }
   ],
   "source": [
    "data.isna().any()"
   ]
  },
  {
   "cell_type": "markdown",
   "id": "2c9c9de0-7663-49a2-87b4-dda271702dbc",
   "metadata": {},
   "source": [
    "#### What are the top 10 YouTube channels based on the number of subscribers?"
   ]
  },
  {
   "cell_type": "code",
   "execution_count": 7,
   "id": "fb0c6742-13b0-4599-9762-1abfebc3b39c",
   "metadata": {},
   "outputs": [
    {
     "name": "stdout",
     "output_type": "stream",
     "text": [
      "<----------------------------------------------->\n",
      "Top 10 YouTube channels based on subscribers:\n",
      "                     Youtuber  subscribers\n",
      "0                    T-Series  245000000.0\n",
      "1              YouTube Movies  170000000.0\n",
      "2                     MrBeast  166000000.0\n",
      "3  Cocomelon - Nursery Rhymes  162000000.0\n",
      "4                   SET India  159000000.0\n",
      "5                       Music  119000000.0\n",
      "6         ýýý Kids Diana Show  112000000.0\n",
      "7                   PewDiePie  111000000.0\n",
      "8                 Like Nastya  106000000.0\n",
      "9               Vlad and Niki   98900000.0\n",
      "<----------------------------------------------->\n"
     ]
    }
   ],
   "source": [
    "top_10_subscribers = data.nlargest(10, 'subscribers')[['Youtuber', 'subscribers']]\n",
    "print('<----------------------------------------------->')\n",
    "print(\"Top 10 YouTube channels based on subscribers:\")\n",
    "print(top_10_subscribers)\n",
    "print('<----------------------------------------------->')"
   ]
  },
  {
   "cell_type": "markdown",
   "id": "76450b40-bb81-41d9-abf9-41ed8d6e3377",
   "metadata": {},
   "source": [
    "#### Which category has the highest average number of subscribers?"
   ]
  },
  {
   "cell_type": "code",
   "execution_count": 8,
   "id": "0c78035c-eb81-48f9-b843-ef0ec8101724",
   "metadata": {},
   "outputs": [
    {
     "name": "stdout",
     "output_type": "stream",
     "text": [
      "<----------------------------------------------->\n",
      "Category with the highest average subscribers: Shows\n",
      "<----------------------------------------------->\n"
     ]
    }
   ],
   "source": [
    "avg_subscribers_by_category = data.groupby('category')['subscribers'].mean().idxmax()\n",
    "print('<----------------------------------------------->')\n",
    "print(\"Category with the highest average subscribers:\", avg_subscribers_by_category)\n",
    "print('<----------------------------------------------->')"
   ]
  },
  {
   "cell_type": "markdown",
   "id": "aa7962d7-2df4-40c9-ac51-57d33719bcb1",
   "metadata": {},
   "source": [
    "#### How many videos, on average, are uploaded by YouTube channels in each category?"
   ]
  },
  {
   "cell_type": "code",
   "execution_count": 9,
   "id": "d1409768-a131-47e9-83dc-83c7bd454f07",
   "metadata": {},
   "outputs": [
    {
     "name": "stdout",
     "output_type": "stream",
     "text": [
      "<----------------------------------------------->\n",
      "Average videos uploaded by category:\n",
      "category\n",
      "Autos & Vehicles           1550.666667\n",
      "Comedy                     1202.557143\n",
      "Education                  3087.086957\n",
      "Entertainment             12052.445378\n",
      "Film & Animation           2861.844444\n",
      "Gaming                     4285.273684\n",
      "Howto & Style              1695.500000\n",
      "Movies                     3553.000000\n",
      "Music                      2325.945813\n",
      "News & Politics          112484.384615\n",
      "Nonprofits & Activism    102912.000000\n",
      "People & Blogs             9256.793893\n",
      "Pets & Animals             3562.800000\n",
      "Science & Technology       2114.058824\n",
      "Shows                     27443.692308\n",
      "Sports                    19129.833333\n",
      "Trailers                   6839.000000\n",
      "Travel & Events             766.000000\n",
      "Name: uploads, dtype: float64\n",
      "<----------------------------------------------->\n"
     ]
    }
   ],
   "source": [
    "avg_videos_by_category = data.groupby('category')['uploads'].mean()\n",
    "print('<----------------------------------------------->')\n",
    "print(\"Average videos uploaded by category:\")\n",
    "print(avg_videos_by_category)\n",
    "print('<----------------------------------------------->')"
   ]
  },
  {
   "cell_type": "markdown",
   "id": "c2e3f0a1-ca43-44a8-bb82-67ae667e4098",
   "metadata": {},
   "source": [
    "#### What are the top 5 countries with the highest number of YouTube channels?"
   ]
  },
  {
   "cell_type": "code",
   "execution_count": 10,
   "id": "b35eccc9-85d4-4d49-b75f-adc409392de1",
   "metadata": {},
   "outputs": [
    {
     "name": "stdout",
     "output_type": "stream",
     "text": [
      "<----------------------------------------------->\n",
      "Top 5 countries with the highest number of YouTube channels:\n",
      "Country\n",
      "United States     315\n",
      "India             169\n",
      "Brazil             62\n",
      "United Kingdom     44\n",
      "Mexico             33\n",
      "Name: count, dtype: int64\n",
      "<----------------------------------------------->\n"
     ]
    }
   ],
   "source": [
    "top_5_countries = data['Country'].value_counts().nlargest(5)\n",
    "print('<----------------------------------------------->')\n",
    "print(\"Top 5 countries with the highest number of YouTube channels:\")\n",
    "print(top_5_countries)\n",
    "print('<----------------------------------------------->')"
   ]
  },
  {
   "cell_type": "markdown",
   "id": "ee6db220-3f72-4fc0-8529-4a09477acb4e",
   "metadata": {},
   "source": [
    "#### What is the distribution of channel types (individual vs. brand) across different categories?"
   ]
  },
  {
   "cell_type": "code",
   "execution_count": 11,
   "id": "9b1d09ad-a175-406a-bb80-1297e6d97d93",
   "metadata": {},
   "outputs": [
    {
     "name": "stdout",
     "output_type": "stream",
     "text": [
      "<----------------------------------------------->\n",
      "Distribution of channel types across categories:\n",
      "category          channel_type \n",
      "Autos & Vehicles  Autos             2\n",
      "                  Entertainment     1\n",
      "Comedy            Comedy           39\n",
      "                  Entertainment    20\n",
      "                  Film              1\n",
      "                                   ..\n",
      "Sports            Entertainment     1\n",
      "                  Sports           11\n",
      "Trailers          Entertainment     1\n",
      "                  Music             1\n",
      "Travel & Events   Entertainment     1\n",
      "Length: 79, dtype: int64\n",
      "<----------------------------------------------->\n"
     ]
    }
   ],
   "source": [
    "channel_type_distribution = data.groupby(['category', 'channel_type']).size()\n",
    "print('<----------------------------------------------->')\n",
    "print(\"Distribution of channel types across categories:\")\n",
    "print(channel_type_distribution)\n",
    "print('<----------------------------------------------->')"
   ]
  },
  {
   "cell_type": "markdown",
   "id": "da8913e5-7638-473f-a069-1cadb99f77b8",
   "metadata": {},
   "source": [
    "#### Is there a correlation between the number of subscribers and total video views for YouTube channels?"
   ]
  },
  {
   "cell_type": "code",
   "execution_count": 12,
   "id": "a1db218d-a320-4d50-a14f-2e58ccb03a25",
   "metadata": {},
   "outputs": [
    {
     "name": "stdout",
     "output_type": "stream",
     "text": [
      "<----------------------------------------------->\n",
      "Correlation between subscribers and total video views: 0.7481786016237687\n",
      "<----------------------------------------------->\n"
     ]
    }
   ],
   "source": [
    "subscribers_views_correlation = data['subscribers'].corr(data['video views'])\n",
    "print('<----------------------------------------------->')\n",
    "print(\"Correlation between subscribers and total video views:\", subscribers_views_correlation)\n",
    "print('<----------------------------------------------->')"
   ]
  },
  {
   "cell_type": "markdown",
   "id": "970d666f-c9c0-4162-ab7d-7aa7604d84b4",
   "metadata": {},
   "source": [
    "#### How do the monthly earnings vary between individual and brand YouTube channels?"
   ]
  },
  {
   "cell_type": "code",
   "execution_count": 13,
   "id": "76bfbd2f-d8f4-4df2-a2e7-272494d7f885",
   "metadata": {},
   "outputs": [
    {
     "name": "stdout",
     "output_type": "stream",
     "text": [
      "<----------------------------------------------->\n",
      "Monthly earnings variation between individual and brand channels:\n",
      "               lowest_monthly_earnings  highest_monthly_earnings\n",
      "channel_type                                                    \n",
      "Animals                  176566.666667              2.833333e+06\n",
      "Autos                     44150.157500              7.000026e+05\n",
      "Comedy                    45869.729038              7.315022e+05\n",
      "Education                 50188.000000              8.051820e+05\n",
      "Entertainment             43972.672007              7.027955e+05\n",
      "Film                      29086.429524              4.646072e+05\n",
      "Games                     21677.960300              3.480582e+05\n",
      "Howto                     14665.648649              2.339649e+05\n",
      "Music                     35866.994977              5.726846e+05\n",
      "News                      43756.875000              7.016400e+05\n",
      "Nonprofit                 24400.000000              3.904000e+05\n",
      "People                    41823.474902              6.691181e+05\n",
      "Sports                    50778.571429              8.197357e+05\n",
      "Tech                      13782.352941              2.203588e+05\n",
      "<----------------------------------------------->\n"
     ]
    }
   ],
   "source": [
    "monthly_earnings_variation = data.groupby('channel_type')[['lowest_monthly_earnings', 'highest_monthly_earnings']].mean()\n",
    "print('<----------------------------------------------->')\n",
    "print(\"Monthly earnings variation between individual and brand channels:\")\n",
    "print(monthly_earnings_variation)\n",
    "print('<----------------------------------------------->')"
   ]
  },
  {
   "cell_type": "markdown",
   "id": "9f302410-a768-4b0c-97c4-0b97ea475bbb",
   "metadata": {},
   "source": [
    "#### What is the overall trend in subscribers gained in the last 30 days across all channels?"
   ]
  },
  {
   "cell_type": "code",
   "execution_count": 14,
   "id": "6e73d3a6-b3fe-4bd0-a893-470f1ef33ed6",
   "metadata": {},
   "outputs": [
    {
     "name": "stdout",
     "output_type": "stream",
     "text": [
      "<----------------------------------------------->\n",
      "Overall trend in subscribers gained in the last 30 days: 232794874.0\n",
      "<----------------------------------------------->\n"
     ]
    }
   ],
   "source": [
    "overall_subscribers_trend = data['subscribers_for_last_30_days'].sum()\n",
    "print('<----------------------------------------------->')\n",
    "print(\"Overall trend in subscribers gained in the last 30 days:\", overall_subscribers_trend)\n",
    "print('<----------------------------------------------->')"
   ]
  },
  {
   "cell_type": "markdown",
   "id": "b6d0dd5a-84d2-450f-a99a-052095119e11",
   "metadata": {},
   "source": [
    "#### Are there any outliers in terms of yearly earnings from YouTube channels?"
   ]
  },
  {
   "cell_type": "code",
   "execution_count": 15,
   "id": "e660f983-be8d-405c-bd60-4ffdcf8d9cf7",
   "metadata": {},
   "outputs": [
    {
     "name": "stdout",
     "output_type": "stream",
     "text": [
      "<----------------------------------------------->\n",
      "Channels with negative yearly earnings:\n",
      "Empty DataFrame\n",
      "Columns: [rank, Youtuber, subscribers, video views, category, Title, uploads, Country of origin, Country, Abbreviation, channel_type, video_views_rank, country_rank, channel_type_rank, video_views_for_the_last_30_days, lowest_monthly_earnings, highest_monthly_earnings, lowest_yearly_earnings, highest_yearly_earnings, subscribers_for_last_30_days, created_year, created_month, created_date, Gross tertiary education enrollment (%), Population, Unemployment rate, Urban_population, Latitude, Longitude]\n",
      "Index: []\n",
      "\n",
      "[0 rows x 29 columns]\n",
      "<----------------------------------------------->\n"
     ]
    }
   ],
   "source": [
    "yearly_earnings_outliers = data[(data['lowest_yearly_earnings'] < 0) | (data['highest_yearly_earnings'] < 0)]\n",
    "print('<----------------------------------------------->')\n",
    "print(\"Channels with negative yearly earnings:\")\n",
    "print(yearly_earnings_outliers)\n",
    "print('<----------------------------------------------->')"
   ]
  },
  {
   "cell_type": "markdown",
   "id": "5f84a799-f801-4cac-9eb7-b54d3707b012",
   "metadata": {},
   "source": [
    "#### What is the distribution of channel creation dates? Is there any trend over time?"
   ]
  },
  {
   "cell_type": "code",
   "execution_count": 16,
   "id": "2b3ac921-1c2b-4e8f-b0c6-c43bda2bfd91",
   "metadata": {},
   "outputs": [
    {
     "name": "stdout",
     "output_type": "stream",
     "text": [
      "<----------------------------------------------->\n",
      "Distribution of channel creation dates:\n",
      "created_year  created_month\n",
      "1970.0        Jan              1\n",
      "2005.0        Dec              3\n",
      "              Jun              2\n",
      "              Nov              9\n",
      "              Oct              6\n",
      "                              ..\n",
      "2021.0        Sep              2\n",
      "2022.0        Apr              1\n",
      "              Jun              2\n",
      "              Mar              1\n",
      "              May              1\n",
      "Length: 198, dtype: int64\n",
      "<----------------------------------------------->\n"
     ]
    }
   ],
   "source": [
    "channel_creation_dates_distribution = data.groupby(['created_year', 'created_month']).size()\n",
    "print('<----------------------------------------------->')\n",
    "print(\"Distribution of channel creation dates:\")\n",
    "print(channel_creation_dates_distribution)\n",
    "print('<----------------------------------------------->')"
   ]
  },
  {
   "cell_type": "markdown",
   "id": "98edf4cc-180d-4639-a390-3964e06b5fa1",
   "metadata": {},
   "source": [
    "#### Is there a relationship between gross tertiary education enrollment and the number of YouTube channels in a country?"
   ]
  },
  {
   "cell_type": "code",
   "execution_count": 17,
   "id": "b9515689-f0ac-4c89-8307-0af6056a9ca4",
   "metadata": {},
   "outputs": [
    {
     "name": "stdout",
     "output_type": "stream",
     "text": [
      "<----------------------------------------------->\n",
      "Relationship between education enrollment and number of channels:\n",
      "     Gross tertiary education enrollment (%)               Country\n",
      "0                                       28.1                 india\n",
      "1                                       88.2         United States\n",
      "4                                       28.1                 India\n",
      "5                                        NaN                   NaN\n",
      "7                                       63.2                 Japan\n",
      "8                                       81.9                Russia\n",
      "13                                      94.3           South Korea\n",
      "16                                      60.0        United Kingdom\n",
      "19                                      68.9                Canada\n",
      "23                                      51.3                Brazil\n",
      "31                                      90.0             Argentina\n",
      "44                                      88.5                 Chile\n",
      "50                                      41.4                  Cuba\n",
      "52                                      29.4           El Salvador\n",
      "56                                       9.0              Pakistan\n",
      "60                                      35.5           Philippines\n",
      "61                                      49.3              Thailand\n",
      "63                                      55.3              Colombia\n",
      "69                                      65.4              Barbados\n",
      "71                                      40.2                Mexico\n",
      "76                                      36.8  United Arab Emirates\n",
      "81                                      88.9                 Spain\n",
      "85                                      68.0          Saudi Arabia\n",
      "117                                     36.3             Indonesia\n",
      "132                                     23.9                Turkey\n",
      "151                                     79.3             Venezuela\n",
      "158                                     54.4                Kuwait\n",
      "165                                     34.4                Jordan\n",
      "167                                     85.0           Netherlands\n",
      "190                                     84.8             Singapore\n",
      "191                                    113.1             Australia\n",
      "212                                     61.9                 Italy\n",
      "294                                     70.2               Germany\n",
      "315                                     65.6                France\n",
      "371                                     67.0                Sweden\n",
      "377                                      9.7           Afghanistan\n",
      "379                                     82.7               Ukraine\n",
      "388                                     88.1                Latvia\n",
      "423                                     59.6           Switzerland\n",
      "489                                     28.5               Vietnam\n",
      "503                                     45.1              Malaysia\n",
      "507                                     50.6                 China\n",
      "517                                     16.2                  Iraq\n",
      "637                                     35.2                 Egypt\n",
      "663                                      NaN               Andorra\n",
      "725                                     44.9               Ecuador\n",
      "749                                     35.9               Morocco\n",
      "754                                     70.7                  Peru\n",
      "808                                     20.6            Bangladesh\n",
      "876                                     88.2               Finland\n",
      "899                                      7.6                 Samoa\n",
      "<----------------------------------------------->\n"
     ]
    }
   ],
   "source": [
    "education_enrollment_relationship = data[['Gross tertiary education enrollment (%)', 'Country']].drop_duplicates()\n",
    "print('<----------------------------------------------->')\n",
    "print(\"Relationship between education enrollment and number of channels:\")\n",
    "print(education_enrollment_relationship)\n",
    "print('<----------------------------------------------->')"
   ]
  },
  {
   "cell_type": "markdown",
   "id": "131d6790-61d5-4f15-bd0f-3a1ce1540f21",
   "metadata": {},
   "source": [
    "#### How does the unemployment rate vary among the top 10 countries with the highest number of YouTube channels?"
   ]
  },
  {
   "cell_type": "code",
   "execution_count": 18,
   "id": "d071ccc5-e097-4a91-a37d-8ca665f655b8",
   "metadata": {},
   "outputs": [
    {
     "name": "stdout",
     "output_type": "stream",
     "text": [
      "<----------------------------------------------->\n",
      "Unemployment rate among top 10 countries with most YouTube channels:\n",
      "Country\n",
      "Jordan           14.72\n",
      "United States    14.70\n",
      "Spain            13.96\n",
      "Turkey           13.49\n",
      "Iraq             12.82\n",
      "Brazil           12.08\n",
      "Afghanistan      11.12\n",
      "Egypt            10.76\n",
      "Barbados         10.33\n",
      "Italy             9.89\n",
      "Name: Unemployment rate, dtype: float64\n",
      "<----------------------------------------------->\n"
     ]
    }
   ],
   "source": [
    "top_10_countries_unemployment = data.groupby('Country')['Unemployment rate'].mean().nlargest(10)\n",
    "print('<----------------------------------------------->')\n",
    "print(\"Unemployment rate among top 10 countries with most YouTube channels:\")\n",
    "print(top_10_countries_unemployment)\n",
    "print('<----------------------------------------------->')"
   ]
  },
  {
   "cell_type": "markdown",
   "id": "d20f48b8-032c-4894-bf04-257cf1863c23",
   "metadata": {},
   "source": [
    "#### What is the average urban population percentage in countries with YouTube channels?"
   ]
  },
  {
   "cell_type": "code",
   "execution_count": 19,
   "id": "b2bed5a1-36a2-4c22-a0dc-75af74d100d5",
   "metadata": {},
   "outputs": [
    {
     "name": "stdout",
     "output_type": "stream",
     "text": [
      "<----------------------------------------------->\n",
      "Average urban population percentage in countries with YouTube channels: 223974718.82045454\n",
      "<----------------------------------------------->\n"
     ]
    }
   ],
   "source": [
    "avg_urban_population = data['Urban_population'].mean()\n",
    "print('<----------------------------------------------->')\n",
    "print(\"Average urban population percentage in countries with YouTube channels:\", avg_urban_population)\n",
    "print('<----------------------------------------------->')"
   ]
  },
  {
   "cell_type": "markdown",
   "id": "ebad741b-b30e-4ae4-a1e9-2555d81d5e65",
   "metadata": {},
   "source": [
    "#### Are there any patterns in the distribution of YouTube channels based on latitude and longitude coordinates?"
   ]
  },
  {
   "cell_type": "code",
   "execution_count": 20,
   "id": "033f33b9-2ad3-4c65-ad01-380de399b650",
   "metadata": {},
   "outputs": [
    {
     "name": "stdout",
     "output_type": "stream",
     "text": [
      "<----------------------------------------------->\n",
      "Patterns in distribution of YouTube channels based on latitude and longitude:\n",
      "Latitude    Longitude  \n",
      "-38.416097  -63.616672      13\n",
      "-35.675147  -71.542969       3\n",
      "-25.274398   133.775136      9\n",
      "-14.235004  -51.925280      62\n",
      "-13.759029  -172.104629      1\n",
      "-9.189967   -75.015152       1\n",
      "-1.831239   -78.183406       2\n",
      "-0.789275    113.921327     28\n",
      " 1.352083    103.819836      4\n",
      " 4.210484    101.975766      1\n",
      " 4.570868   -74.297333      11\n",
      " 6.423750   -66.589730       1\n",
      " 12.879721   121.774017     12\n",
      " 13.193887  -59.543198       1\n",
      " 13.794185  -88.896530       1\n",
      " 14.058324   108.277199      3\n",
      " 15.870032   100.992541     18\n",
      " 20.593684   78.962880     170\n",
      " 21.521757  -77.781167       1\n",
      " 23.424076   53.847818       8\n",
      " 23.634501  -102.552784     33\n",
      " 23.684994   90.356331       1\n",
      " 23.885942   45.079162      10\n",
      " 26.820553   30.802498       2\n",
      " 29.311660   47.481766       1\n",
      " 30.375321   69.345116       6\n",
      " 30.585164   36.238414       3\n",
      " 31.791702  -7.092620        1\n",
      " 33.223191   43.679291       2\n",
      " 33.939110   67.709953       1\n",
      " 35.861660   104.195397      1\n",
      " 35.907757   127.766922     17\n",
      " 36.204824   138.252924      5\n",
      " 37.090240  -95.712891     315\n",
      " 38.963745   35.243322       4\n",
      " 40.463667  -3.749220       22\n",
      " 41.871940   12.567380       2\n",
      " 46.227638   2.213749        5\n",
      " 46.818188   8.227512        1\n",
      " 48.379433   31.165580       8\n",
      " 51.165691   10.451526       6\n",
      " 52.132633   5.291266        3\n",
      " 55.378051  -3.435973       44\n",
      " 56.130366  -106.346771     15\n",
      " 56.879635   24.603189       1\n",
      " 60.128161   18.643501       4\n",
      " 61.524010   105.318756     16\n",
      " 61.924110   25.748151       1\n",
      "dtype: int64\n",
      "<----------------------------------------------->\n"
     ]
    }
   ],
   "source": [
    "latitude_longitude_patterns = data.groupby(['Latitude', 'Longitude']).size()\n",
    "print('<----------------------------------------------->')\n",
    "print(\"Patterns in distribution of YouTube channels based on latitude and longitude:\")\n",
    "print(latitude_longitude_patterns)\n",
    "print('<----------------------------------------------->')"
   ]
  },
  {
   "cell_type": "markdown",
   "id": "267f7890-52a3-4c96-82e8-f80fd5dff326",
   "metadata": {},
   "source": [
    "#### What is the correlation between the number of subscribers and the population of a country?"
   ]
  },
  {
   "cell_type": "code",
   "execution_count": 21,
   "id": "465e5eb9-5e2d-4809-bda7-2793f3c1c828",
   "metadata": {},
   "outputs": [
    {
     "name": "stdout",
     "output_type": "stream",
     "text": [
      "<----------------------------------------------->\n",
      "Correlation between subscribers and population of a country: 0.08279259673577884\n",
      "<----------------------------------------------->\n"
     ]
    }
   ],
   "source": [
    "subscribers_population_correlation = data['subscribers'].corr(data['Population'])\n",
    "print('<----------------------------------------------->')\n",
    "print(\"Correlation between subscribers and population of a country:\", subscribers_population_correlation)\n",
    "print('<----------------------------------------------->')"
   ]
  },
  {
   "cell_type": "markdown",
   "id": "8e49f169-473d-4e30-b2db-4daf4d1e01a7",
   "metadata": {},
   "source": [
    "#### How do the top 10 countries with the highest number of YouTube channels compare in terms of their total population?"
   ]
  },
  {
   "cell_type": "code",
   "execution_count": 22,
   "id": "a30fb97f-f66a-44f2-95ab-4fe15388196d",
   "metadata": {},
   "outputs": [
    {
     "name": "stdout",
     "output_type": "stream",
     "text": [
      "<----------------------------------------------->\n",
      "Total population of top 10 countries with most YouTube channels:\n",
      "Country\n",
      "China            1.397715e+09\n",
      "India            1.366418e+09\n",
      "india            1.366418e+09\n",
      "United States    3.282395e+08\n",
      "Indonesia        2.702039e+08\n",
      "Pakistan         2.165653e+08\n",
      "Brazil           2.125594e+08\n",
      "Bangladesh       1.673108e+08\n",
      "Russia           1.443735e+08\n",
      "Japan            1.262266e+08\n",
      "Name: Population, dtype: float64\n",
      "<----------------------------------------------->\n"
     ]
    }
   ],
   "source": [
    "top_10_countries_population = data.groupby('Country')['Population'].mean().nlargest(10)\n",
    "print('<----------------------------------------------->')\n",
    "print(\"Total population of top 10 countries with most YouTube channels:\")\n",
    "print(top_10_countries_population)\n",
    "print('<----------------------------------------------->')"
   ]
  },
  {
   "cell_type": "markdown",
   "id": "f8258af4-1692-4a44-8c06-aa2c7e9f4d3a",
   "metadata": {},
   "source": [
    "#### Is there a correlation between the number of subscribers gained in the last 30 days and the unemployment rate in a country?"
   ]
  },
  {
   "cell_type": "code",
   "execution_count": 23,
   "id": "7dd360cb-2cd3-4518-905a-e74db2e4a9de",
   "metadata": {},
   "outputs": [
    {
     "name": "stdout",
     "output_type": "stream",
     "text": [
      "<----------------------------------------------->\n",
      "Correlation between subscribers gained in last 30 days and unemployment rate: -0.022031381943234354\n",
      "<----------------------------------------------->\n"
     ]
    }
   ],
   "source": [
    "subscribers_unemployment_correlation = data['subscribers_for_last_30_days'].corr(data['Unemployment rate'])\n",
    "print('<----------------------------------------------->')\n",
    "print(\"Correlation between subscribers gained in last 30 days and unemployment rate:\", subscribers_unemployment_correlation)\n",
    "print('<----------------------------------------------->')"
   ]
  },
  {
   "cell_type": "markdown",
   "id": "a2acfcc4-ca58-4789-90ce-8da09bb44fd7",
   "metadata": {},
   "source": [
    "#### How does the distribution of video views for the last 30 days vary across different channel types?"
   ]
  },
  {
   "cell_type": "code",
   "execution_count": 24,
   "id": "35a64b27-9103-41a6-a6c7-93bf87f6643f",
   "metadata": {},
   "outputs": [
    {
     "name": "stdout",
     "output_type": "stream",
     "text": [
      "<----------------------------------------------->\n",
      "Distribution of video views for the last 30 days across channel types:\n",
      "<pandas.core.groupby.generic.SeriesGroupBy object at 0x000001DBD678EA40>\n",
      "<----------------------------------------------->\n"
     ]
    }
   ],
   "source": [
    "video_views_distribution = data.groupby('channel_type')['video_views_for_the_last_30_days']\n",
    "print('<----------------------------------------------->')\n",
    "print(\"Distribution of video views for the last 30 days across channel types:\")\n",
    "print(video_views_distribution)\n",
    "print('<----------------------------------------------->')"
   ]
  },
  {
   "cell_type": "markdown",
   "id": "1ab2ad65-3547-413a-affc-cb894c001b58",
   "metadata": {},
   "source": [
    "#### Are there any seasonal trends in the number of videos uploaded by YouTube channels?"
   ]
  },
  {
   "cell_type": "code",
   "execution_count": 25,
   "id": "30a76834-7fd0-4378-9253-b9ac897db17b",
   "metadata": {},
   "outputs": [
    {
     "name": "stdout",
     "output_type": "stream",
     "text": [
      "<----------------------------------------------->\n",
      "Seasonal trends in number of videos uploaded:\n",
      "created_month\n",
      "Apr     2499.929577\n",
      "Aug    15912.265060\n",
      "Dec     3577.154930\n",
      "Feb    11732.582090\n",
      "Jan     8012.594059\n",
      "Jul     5603.808989\n",
      "Jun    13059.413333\n",
      "Mar     4339.232558\n",
      "May     8568.717647\n",
      "Nov     8841.582418\n",
      "Oct    16688.500000\n",
      "Sep    12182.113402\n",
      "Name: uploads, dtype: float64\n",
      "<----------------------------------------------->\n"
     ]
    }
   ],
   "source": [
    "seasonal_videos_trends = data.groupby('created_month')['uploads'].mean()\n",
    "print('<----------------------------------------------->')\n",
    "print(\"Seasonal trends in number of videos uploaded:\")\n",
    "print(seasonal_videos_trends)\n",
    "print('<----------------------------------------------->')"
   ]
  },
  {
   "cell_type": "markdown",
   "id": "83ad5ea5-5b1c-4987-8eb9-9b923966e019",
   "metadata": {},
   "source": [
    "#### What is the average number of subscribers gained per month since the creation of YouTube channels?"
   ]
  },
  {
   "cell_type": "code",
   "execution_count": 26,
   "id": "31665b5c-060f-4239-93f0-a6dfc5e10c9e",
   "metadata": {},
   "outputs": [
    {
     "name": "stdout",
     "output_type": "stream",
     "text": [
      "<----------------------------------------------->\n",
      "Average subscribers gained per month since channel creation:\n",
      "0       370893.677146\n",
      "1       257354.796387\n",
      "2       251299.389413\n",
      "3       245243.982439\n",
      "4       240702.427209\n",
      "            ...      \n",
      "1001     21496.694757\n",
      "1002     21345.309583\n",
      "1003     20134.228188\n",
      "1004     20134.228188\n",
      "1005     20134.228188\n",
      "Length: 1006, dtype: float64\n",
      "<----------------------------------------------->\n"
     ]
    }
   ],
   "source": [
    "data['months_since_creation'] = (pd.to_datetime('now') - pd.to_datetime(data['created_date'])).dt.days / 30\n",
    "avg_subscribers_per_month = data['subscribers'] / data['months_since_creation']\n",
    "print('<----------------------------------------------->')\n",
    "print(\"Average subscribers gained per month since channel creation:\")\n",
    "print(avg_subscribers_per_month)\n",
    "print('<----------------------------------------------->')"
   ]
  },
  {
   "cell_type": "code",
   "execution_count": null,
   "id": "93b3052e-5bf8-4f97-8efe-f575178a39c2",
   "metadata": {},
   "outputs": [],
   "source": []
  }
 ],
 "metadata": {
  "kernelspec": {
   "display_name": "Python 3 (ipykernel)",
   "language": "python",
   "name": "python3"
  },
  "language_info": {
   "codemirror_mode": {
    "name": "ipython",
    "version": 3
   },
   "file_extension": ".py",
   "mimetype": "text/x-python",
   "name": "python",
   "nbconvert_exporter": "python",
   "pygments_lexer": "ipython3",
   "version": "3.10.11"
  }
 },
 "nbformat": 4,
 "nbformat_minor": 5
}
